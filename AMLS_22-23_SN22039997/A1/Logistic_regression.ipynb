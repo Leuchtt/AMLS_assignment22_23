{
 "cells": [
  {
   "cell_type": "code",
   "execution_count": 1,
   "id": "edc12b6e",
   "metadata": {},
   "outputs": [],
   "source": [
    "import pandas as pd\n",
    "import cv2\n",
    "from sklearn.model_selection import train_test_split\n",
    "from sklearn.linear_model import LogisticRegression\n",
    "from sklearn.metrics import confusion_matrix, classification_report,accuracy_score\n",
    "from PIL import Image\n",
    "import numpy as np\n",
    "from sklearn import datasets\n",
    "import matplotlib.pyplot as plt\n",
    "from matplotlib import cm\n",
    "from sklearn.preprocessing import StandardScaler\n",
    "import seaborn as sns"
   ]
  },
  {
   "cell_type": "code",
   "execution_count": 2,
   "id": "6bb47fcc",
   "metadata": {
    "scrolled": true
   },
   "outputs": [
    {
     "name": "stdout",
     "output_type": "stream",
     "text": [
      "5000 2475\n"
     ]
    }
   ],
   "source": [
    "# Load training data\n",
    "#the running of this seperate file needs the revision of relative path\n",
    "\n",
    "train_label_path = './Datasets/celeba/labels.csv'\n",
    "train_img_path = './Datasets/celeba/img/'\n",
    "test_label_path = './Datasets/celeba_test/labels.csv'\n",
    "test_img_path = './Datasets/celeba_test/img/'\n",
    "\n",
    "dataset = pd.read_csv(train_label_path, sep = \"\\t\")  # read csv file\n",
    "dataset.loc[dataset['gender'] == -1, 'gender'] = 0 \n",
    "y_train = dataset['gender']\n",
    "img_name1 = dataset['img_name']\n",
    "\n",
    "def loadImage(path):\n",
    "    img = Image.open(path)\n",
    "    img = cv2.cvtColor(np.asarray(img),cv2.COLOR_RGB2BGR)\n",
    "    median = cv2.resize(img, (45, 55))\n",
    "    img_resize = Image.fromarray(cv2.cvtColor(median,cv2.COLOR_BGR2RGB))\n",
    "    img = img_resize.convert(\"L\")\n",
    "    data = img.getdata()\n",
    "    return data\n",
    "\n",
    "x_train = []\n",
    "for name in img_name1:\n",
    "    img_path = train_img_path + name \n",
    "    img = loadImage(img_path)\n",
    "    x_train.append(img)  \n",
    "\n",
    "# Load test data\n",
    "data_test = pd.read_csv(test_label_path, sep = \"\\t\")  # read csv file\n",
    "data_test.loc[data_test['gender'] == -1, 'gender'] = 0 \n",
    "y_test = data_test['gender']\n",
    "img_name2 = data_test['img_name']\n",
    "\n",
    "x_test = []\n",
    "for name in img_name2:\n",
    "    img_path = test_img_path + name  # get path \n",
    "    img = loadImage(img_path)\n",
    "    x_test.append(img)  \n",
    "    \n",
    "from sklearn.preprocessing import StandardScaler\n",
    "sc = StandardScaler()\n",
    "x_train = sc.fit_transform(x_train)\n",
    "x_test = sc.transform(x_test)\n",
    "print(\"Dataset prepared\")"
   ]
  },
  {
   "cell_type": "code",
   "execution_count": 3,
   "id": "7149a237",
   "metadata": {},
   "outputs": [],
   "source": [
    "#Build the model\n",
    "\n",
    "def sigmoid(z):\n",
    "    sig = 1. / (1. + np.exp(-z))\n",
    "    return sig\n",
    "\n",
    "def logRegParamEstimates(xTrain, yTrain):\n",
    "    intercept = np.ones((np.array(xTrain).shape[0], 1))\n",
    "    xTrain = np.concatenate((intercept, xTrain), axis=1)\n",
    "    theta = np.zeros(np.array(xTrain).shape[1])    \n",
    "    for i in range(2200):\n",
    "        z = np.dot(xTrain, theta)\n",
    "        h = sigmoid(z)\n",
    "        lr = 0.01\n",
    "        gradient = np.dot(xTrain.T, (h - yTrain)) / (yTrain.shape[0] * np.log(2))\n",
    "        theta -= lr * gradient\n",
    "        \n",
    "    return theta\n",
    "\n",
    "def logRegrNEWRegrPredict(xTrain, yTrain,xTest):\n",
    "    theta = logRegParamEstimates(xTrain, yTrain)\n",
    "    intercept = np.ones((np.array(xTest).shape[0], 1))\n",
    "    xTest = np.concatenate((intercept, xTest), axis=1)\n",
    "    sig = sigmoid(np.dot(xTest, theta))\n",
    "    y_pred1 = sig >= 0.5 # true or false assignment\n",
    "    return y_pred1"
   ]
  },
  {
   "cell_type": "code",
   "execution_count": 4,
   "id": "8f40efb9",
   "metadata": {
    "scrolled": true
   },
   "outputs": [
    {
     "data": {
      "text/plain": [
       "'\\nfor q in range(0,5,1):\\n    test_size=[0.8,0.6,0.4,0.2,0.05]\\n    size=test_size[q]\\n    print(\"test_size = \",size)\\n    for p in range(10):\\n        x_train_split, x_val, y_train_split, y_val = train_test_split(x_train, y_train, test_size = size)\\n        y_pred1 = logRegrNEWRegrPredict(x_train_split, y_train_split,x_val)\\n        y_pred_training = logRegrNEWRegrPredict(x_train_split, y_train_split,x_train_split)\\n        x=0\\n        y=0\\n        k=np.ones((np.array(y_pred1).shape[0]))\\n        for i in y_pred1:\\n            if i==True:\\n                k[x]=1\\n            elif i==False:\\n                k[x]=0\\n            x=x+1\\n        z=np.ones((np.array(y_pred_training).shape[0]))\\n        for i in y_pred_training:\\n            if i==True:\\n                z[y]=1\\n            elif i==False:\\n                z[y]=0\\n            y=y+1\\n        print(\\'Accuracy Score on train data: \\', accuracy_score(y_true=y_train_split, y_pred=y_pred_training))\\n        print(\\'Accuracy Score on test data: \\', accuracy_score(y_true=y_val, y_pred=y_pred1))\\n        \\n'"
      ]
     },
     "execution_count": 4,
     "metadata": {},
     "output_type": "execute_result"
    }
   ],
   "source": [
    "# Cross-validation\n",
    "'''\n",
    "for q in range(0,5,1):\n",
    "    test_size=[0.8,0.6,0.4,0.2,0.05]\n",
    "    size=test_size[q]\n",
    "    print(\"test_size = \",size)\n",
    "    for p in range(10):\n",
    "        x_train_split, x_val, y_train_split, y_val = train_test_split(x_train, y_train, test_size = size)\n",
    "        y_pred1 = logRegrNEWRegrPredict(x_train_split, y_train_split,x_val)\n",
    "        y_pred_training = logRegrNEWRegrPredict(x_train_split, y_train_split,x_train_split)\n",
    "        x=0\n",
    "        y=0\n",
    "        k=np.ones((np.array(y_pred1).shape[0]))\n",
    "        for i in y_pred1:\n",
    "            if i==True:\n",
    "                k[x]=1\n",
    "            elif i==False:\n",
    "                k[x]=0\n",
    "            x=x+1\n",
    "        z=np.ones((np.array(y_pred_training).shape[0]))\n",
    "        for i in y_pred_training:\n",
    "            if i==True:\n",
    "                z[y]=1\n",
    "            elif i==False:\n",
    "                z[y]=0\n",
    "            y=y+1\n",
    "        print('Accuracy Score on train data: ', accuracy_score(y_true=y_train_split, y_pred=y_pred_training))\n",
    "        print('Accuracy Score on test data: ', accuracy_score(y_true=y_val, y_pred=y_pred1))\n",
    "        \n",
    "'''"
   ]
  },
  {
   "cell_type": "code",
   "execution_count": 5,
   "id": "80403b9a",
   "metadata": {},
   "outputs": [
    {
     "name": "stdout",
     "output_type": "stream",
     "text": [
      "MSE: 0.091\n",
      "Accuracy on test set: 0.909\n",
      "              precision    recall  f1-score   support\n",
      "\n",
      "           0       0.91      0.91      0.91       500\n",
      "           1       0.91      0.91      0.91       500\n",
      "\n",
      "    accuracy                           0.91      1000\n",
      "   macro avg       0.91      0.91      0.91      1000\n",
      "weighted avg       0.91      0.91      0.91      1000\n",
      "\n"
     ]
    }
   ],
   "source": [
    "y_pred1 = logRegrNEWRegrPredict(x_train, y_train,x_test)\n",
    "#print(y_pred1)\n",
    "x=0\n",
    "k=np.ones((np.array(y_pred1).shape[0]))\n",
    "for i in y_pred1:\n",
    "    if i==True:\n",
    "        k[x]=1\n",
    "    elif i==False:\n",
    "        k[x]=0\n",
    "    x=x+1\n",
    "    \n",
    "p=0\n",
    "for j in range(len(k)):\n",
    "    a=np.square(k[j]-y_test[j])\n",
    "    p=p+a\n",
    "    \n",
    "MSE=p/len(k)\n",
    "#print('MSE: '+ str(MSE))\n",
    "print('Accuracy on test set: '+str(accuracy_score(y_test,k)))\n",
    "print(classification_report(y_test,k))#text report showing the main classification metrics"
   ]
  },
  {
   "cell_type": "code",
   "execution_count": 6,
   "id": "f2153621",
   "metadata": {},
   "outputs": [
    {
     "data": {
      "image/png": "[encoded data removed]",
      "text/plain": [
       "<Figure size 600x400 with 2 Axes>"
      ]
     },
     "metadata": {},
     "output_type": "display_data"
    }
   ],
   "source": [
    "# Results analysis\n",
    "# Confusion Matrix\n",
    "cm = confusion_matrix(y_test,k)\n",
    "df_cm = pd.DataFrame(cm)\n",
    "fig, ax = plt.subplots(figsize=(6,4)) \n",
    "ax = sns.heatmap(df_cm, \n",
    "                annot=True, \n",
    "                fmt=\".20g\", \n",
    "                linewidths=2, \n",
    "                square=True\n",
    "                )\n",
    "\n",
    "ax.set_xlabel('True', family='Arial')\n",
    "ax.set_ylabel('Predict', family='Arial')\n",
    "ax.set_title('Confusion Matrix', family='Arial')\n",
    "plt.tight_layout()\n",
    "plt.savefig('A1_LR.png', dpi=300)\n"
   ]
  }
 ],
 "metadata": {
  "kernelspec": {
   "display_name": "Python 3 (ipykernel)",
   "language": "python",
   "name": "python3"
  },
  "language_info": {
   "codemirror_mode": {
    "name": "ipython",
    "version": 3
   },
   "file_extension": ".py",
   "mimetype": "text/x-python",
   "name": "python",
   "nbconvert_exporter": "python",
   "pygments_lexer": "ipython3",
   "version": "3.9.13"
  }
 },
 "nbformat": 4,
 "nbformat_minor": 5
}
