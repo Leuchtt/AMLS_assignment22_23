{
 "cells": [
  {
   "cell_type": "code",
   "execution_count": 6,
   "id": "5ea3a412",
   "metadata": {},
   "outputs": [],
   "source": [
    "import numpy as np\n",
    "from PIL import Image\n",
    "import cv2\n",
    "from sklearn import svm, datasets\n",
    "from sklearn.svm import SVC\n",
    "from sklearn.model_selection import train_test_split,GridSearchCV\n",
    "from sklearn.utils import shuffle\n",
    "from sklearn.metrics import classification_report,accuracy_score,confusion_matrix\n",
    "from sklearn.preprocessing import StandardScaler\n",
    "import pandas as pd\n",
    "import seaborn as sns\n",
    "import matplotlib.pyplot as plt\n",
    "from matplotlib import cm"
   ]
  },
  {
   "cell_type": "code",
   "execution_count": 7,
   "id": "ab2735d2",
   "metadata": {},
   "outputs": [
    {
     "name": "stdout",
     "output_type": "stream",
     "text": [
      "Dataset prepared\n"
     ]
    }
   ],
   "source": [
    "# Load training data\n",
    "#the running of this seperate file needs the revision of relative path\n",
    "\n",
    "train_label_path = './Datasets/celeba/labels.csv'\n",
    "train_img_path = './Datasets/celeba/img/'\n",
    "test_label_path = './Datasets/celeba_test/labels.csv'\n",
    "test_img_path = './Datasets/celeba_test/img/'\n",
    "\n",
    "dataset = pd.read_csv(train_label_path, sep = \"\\t\")  # read csv file\n",
    "dataset.loc[dataset['smiling'] == -1, 'smiling'] = 0 \n",
    "y_train = dataset['smiling']\n",
    "img_name1 = dataset['img_name']\n",
    "\n",
    "def loadImage(path):\n",
    "    img = Image.open(path)\n",
    "    img = cv2.cvtColor(np.asarray(img),cv2.COLOR_RGB2BGR)\n",
    "    median = cv2.resize(img, (45, 55))\n",
    "    img_resize = Image.fromarray(cv2.cvtColor(median,cv2.COLOR_BGR2RGB))\n",
    "    img = img_resize.convert(\"L\")\n",
    "    data = img.getdata()\n",
    "    return data\n",
    "\n",
    "x_train = []\n",
    "for name in img_name1:\n",
    "    img_path = train_img_path + name # get path\n",
    "    img = loadImage(img_path)\n",
    "    x_train.append(img)  # add pic to x_train\n",
    "    \n",
    "# Load test data\n",
    "data_test = pd.read_csv(test_label_path, sep = \"\\t\")  # read csv file\n",
    "data_test.loc[data_test['smiling'] == -1, 'smiling'] = 0 \n",
    "y_test = data_test['smiling']\n",
    "img_name2 = data_test['img_name']\n",
    "\n",
    "x_test = []\n",
    "for name in img_name2:\n",
    "    img_path = test_img_path + name  # get path\n",
    "    img = loadImage(img_path)\n",
    "    x_test.append(img)  # add pic to x_test\n",
    "    \n",
    "sc = StandardScaler()\n",
    "x_train = sc.fit_transform(x_train)\n",
    "x_test = sc.fit_transform(x_test)\n",
    "print(\"Dataset prepared\")"
   ]
  },
  {
   "cell_type": "code",
   "execution_count": 8,
   "id": "80d677e8",
   "metadata": {},
   "outputs": [
    {
     "data": {
      "text/plain": [
       "({'mean_fit_time': array([19.92401991, 19.48521791]),\n",
       "  'std_fit_time': array([0.9448668 , 0.47188883]),\n",
       "  'mean_score_time': array([8.91318102, 8.40225792]),\n",
       "  'std_score_time': array([0.4967442 , 0.20752864]),\n",
       "  'param_C': masked_array(data=[0.001, 0.01],\n",
       "               mask=[False, False],\n",
       "         fill_value='?',\n",
       "              dtype=object),\n",
       "  'param_kernel': masked_array(data=['rbf', 'rbf'],\n",
       "               mask=[False, False],\n",
       "         fill_value='?',\n",
       "              dtype=object),\n",
       "  'params': [{'C': 0.001, 'kernel': 'rbf'}, {'C': 0.01, 'kernel': 'rbf'}],\n",
       "  'split0_test_score': array([0.661, 0.661]),\n",
       "  'split1_test_score': array([0.665, 0.665]),\n",
       "  'split2_test_score': array([0.648, 0.648]),\n",
       "  'split3_test_score': array([0.655, 0.655]),\n",
       "  'split4_test_score': array([0.63, 0.63]),\n",
       "  'mean_test_score': array([0.6518, 0.6518]),\n",
       "  'std_test_score': array([0.01231909, 0.01231909]),\n",
       "  'rank_test_score': array([1, 1])},\n",
       " {'C': 0.001, 'kernel': 'rbf'},\n",
       " 0.6518)"
      ]
     },
     "execution_count": 8,
     "metadata": {},
     "output_type": "execute_result"
    }
   ],
   "source": [
    "# GridSearchCV\n",
    "'''\n",
    "param_test1 = {'kernel': ['rbf'],'C':[0.001, 0.01, 0.1, 1, 10, 100, 1000]}\n",
    "gsearch1 = GridSearchCV(estimator = SVC(), \n",
    "                       param_grid = param_test1,cv=5)\n",
    "gsearch1.fit(x_train,y_train)\n",
    "gsearch1.cv_results_, gsearch1.best_params_, gsearch1.best_score_\n",
    "'''"
   ]
  },
  {
   "cell_type": "code",
   "execution_count": 3,
   "id": "0e95f7bd",
   "metadata": {},
   "outputs": [
    {
     "data": {
      "text/plain": [
       "'\\nfor q in range(0,10,1):\\n    test_size=[0.8,0.6,0.4,0.2,0.05]\\n    size=test_size[q]\\n    print(\"test_size = \",size)\\n    for p in range(3):\\n        x_train_split, x_val, y_train_split, y_val = train_test_split(x_train, y_train, test_size=size)\\n        model.fit(x_train_split,y_train_split)\\n        y_pred = model.predict(x_val)\\n        y_pred_training = model.predict(x_train_split)\\n        print(\\'Accuracy Score on train data: \\', accuracy_score(y_true=y_train_split, y_pred=y_pred_training))\\n        print(\\'Accuracy Score on test data: \\', accuracy_score(y_true=y_val, y_pred=y_pred))\\n'"
      ]
     },
     "execution_count": 3,
     "metadata": {},
     "output_type": "execute_result"
    }
   ],
   "source": [
    "model = SVC(kernel='rbf', C=1, decision_function_shape='ovo')\n",
    "# Cross-validation\n",
    "'''\n",
    "for q in range(0,10,1):\n",
    "    test_size=[0.8,0.6,0.4,0.2,0.05]\n",
    "    size=test_size[q]\n",
    "    print(\"test_size = \",size)\n",
    "    for p in range(3):\n",
    "        x_train_split, x_val, y_train_split, y_val = train_test_split(x_train, y_train, test_size=size)\n",
    "        model.fit(x_train_split,y_train_split)\n",
    "        y_pred = model.predict(x_val)\n",
    "        y_pred_training = model.predict(x_train_split)\n",
    "        print('Accuracy Score on train data: ', accuracy_score(y_true=y_train_split, y_pred=y_pred_training))\n",
    "        print('Accuracy Score on test data: ', accuracy_score(y_true=y_val, y_pred=y_pred))\n",
    "'''"
   ]
  },
  {
   "cell_type": "code",
   "execution_count": 4,
   "id": "e95802f0",
   "metadata": {},
   "outputs": [
    {
     "name": "stdout",
     "output_type": "stream",
     "text": [
      "Accuracy Score on test data:  0.877\n",
      "              precision    recall  f1-score   support\n",
      "\n",
      "           0       0.87      0.89      0.88       500\n",
      "           1       0.89      0.86      0.88       500\n",
      "\n",
      "    accuracy                           0.88      1000\n",
      "   macro avg       0.88      0.88      0.88      1000\n",
      "weighted avg       0.88      0.88      0.88      1000\n",
      "\n"
     ]
    }
   ],
   "source": [
    "# Test\n",
    "model.fit(x_train,y_train)\n",
    "y_pred = model.predict(x_test)\n",
    "#Use accuracy metric from sklearn.metrics library\n",
    "#print('Accuracy Score on train data: ', accuracy_score(y_true=y_train, y_pred=model.predict(x_train)))\n",
    "print('Accuracy Score on test data: ', accuracy_score(y_true=y_test, y_pred=y_pred))\n",
    "print(classification_report(y_test,y_pred))#text report showing the main classification metrics\n"
   ]
  },
  {
   "cell_type": "code",
   "execution_count": 5,
   "id": "3a277a6d",
   "metadata": {},
   "outputs": [
    {
     "data": {
      "image/png": "[encoded data removed]",
      "text/plain": [
       "<Figure size 600x400 with 2 Axes>"
      ]
     },
     "metadata": {},
     "output_type": "display_data"
    }
   ],
   "source": [
    "# Results analysis\n",
    "# Confusion Matrix\n",
    "cm = confusion_matrix(y_test,y_pred)\n",
    "df_cm = pd.DataFrame(cm)\n",
    "fig, ax = plt.subplots(figsize=(6,4)) \n",
    "ax = sns.heatmap(df_cm, \n",
    "                annot=True, \n",
    "                fmt=\".20g\", \n",
    "                linewidths=2, \n",
    "                square=True\n",
    "                )\n",
    "\n",
    "ax.set_xlabel('True', family='Arial')\n",
    "ax.set_ylabel('Predict', family='Arial')\n",
    "ax.set_title('Confusion Matrix', family='Arial')\n",
    "plt.tight_layout()\n",
    "plt.savefig('A2_SVM.png', dpi=300)\n"
   ]
  }
 ],
 "metadata": {
  "kernelspec": {
   "display_name": "Python [conda env:pytorch]",
   "language": "python",
   "name": "conda-env-pytorch-py"
  },
  "language_info": {
   "codemirror_mode": {
    "name": "ipython",
    "version": 3
   },
   "file_extension": ".py",
   "mimetype": "text/x-python",
   "name": "python",
   "nbconvert_exporter": "python",
   "pygments_lexer": "ipython3",
   "version": "3.9.15"
  }
 },
 "nbformat": 4,
 "nbformat_minor": 5
}
