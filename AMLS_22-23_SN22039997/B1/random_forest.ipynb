{
 "cells": [
  {
   "cell_type": "code",
   "execution_count": 1,
   "id": "895fc4a9",
   "metadata": {},
   "outputs": [],
   "source": [
    "import pandas as pd\n",
    "import cv2\n",
    "from sklearn.model_selection import train_test_split,cross_val_score\n",
    "from sklearn.metrics import confusion_matrix, classification_report,accuracy_score\n",
    "import numpy as np\n",
    "from PIL import Image\n",
    "from sklearn import datasets\n",
    "import matplotlib.pyplot as plt\n",
    "from matplotlib import cm\n",
    "from sklearn.model_selection import GridSearchCV\n",
    "from sklearn.preprocessing import StandardScaler \n",
    "from sklearn.ensemble import RandomForestClassifier\n",
    "import seaborn as sns"
   ]
  },
  {
   "cell_type": "code",
   "execution_count": 2,
   "id": "946e067e",
   "metadata": {},
   "outputs": [],
   "source": [
    "#the running of this seperate file needs the revision of relative path\n",
    "train_label_path = './Datasets/cartoon_set/labels.csv'\n",
    "train_img_path = './Datasets/cartoon_set/img/'\n",
    "test_label_path = './Datasets/cartoon_set_test/labels.csv'\n",
    "test_img_path = './Datasets/cartoon_set_test/img/'\n",
    "\n",
    "#define the image data preprocessing including resize and conversion to L\n",
    "def loadImage(path):\n",
    "    img = Image.open(path)\n",
    "    img = cv2.cvtColor(np.asarray(img),cv2.COLOR_RGB2BGR)\n",
    "    median = cv2.resize(img, (64, 64))\n",
    "    img_resize = Image.fromarray(cv2.cvtColor(median,cv2.COLOR_BGR2RGB))\n",
    "    img = img_resize.convert(\"L\")\n",
    "    data = img.getdata()\n",
    "    return data\n",
    "\n",
    "#load train data\n",
    "dataset = pd.read_csv(train_label_path, sep = \"\\t\")  # read csv file\n",
    "y_train = dataset['face_shape']\n",
    "img_name1 = dataset['file_name']\n",
    "\n",
    "x_train = []\n",
    "for name in img_name1:\n",
    "    img_path = train_img_path + name \n",
    "    img = loadImage(img_path)\n",
    "    x_train.append(img)  \n",
    "\n",
    "# Load test data\n",
    "data_test = pd.read_csv(test_label_path, sep = \"\\t\")  # read csv file\n",
    "y_test = data_test['face_shape']\n",
    "img_name2 = data_test['file_name']\n",
    "\n",
    "x_test = []\n",
    "for name in img_name2:\n",
    "    img_path = test_img_path + name  # get path based on image name\n",
    "    img = loadImage(img_path)\n",
    "    x_test.append(img)  # add pic to x_test\n",
    "\n",
    "print(\"Dataset prepared\")"
   ]
  },
  {
   "cell_type": "code",
   "execution_count": 3,
   "id": "2310271b",
   "metadata": {},
   "outputs": [
    {
     "data": {
      "text/plain": [
       "\"\\nparam_test1 = {'n_estimators':range(110,161,10), 'max_depth':range(9,14,2), 'min_samples_split':range(3,6,2)}\\ngsearch1 = GridSearchCV(estimator = RandomForestClassifier(\\n                                  min_samples_leaf=20,max_features='sqrt', oob_score=True, random_state=10), \\n                       param_grid = param_test1, scoring='roc_auc',cv=5)\\ngsearch1.fit(x_train,y_train)\\ngsearch1.cv_results_, gsearch1.best_params_, gsearch1.best_score_\\n\""
      ]
     },
     "execution_count": 3,
     "metadata": {},
     "output_type": "execute_result"
    }
   ],
   "source": [
    "# GridSearchCV\n",
    "'''\n",
    "param_test1 = {'n_estimators':range(110,161,10), 'max_depth':range(9,14,2), 'min_samples_split':range(3,6,2)}\n",
    "gsearch1 = GridSearchCV(estimator = RandomForestClassifier(\n",
    "                                  min_samples_leaf=20,max_features='sqrt', oob_score=True, random_state=10), \n",
    "                       param_grid = param_test1, scoring='roc_auc',cv=5)\n",
    "gsearch1.fit(x_train,y_train)\n",
    "gsearch1.cv_results_, gsearch1.best_params_, gsearch1.best_score_\n",
    "'''"
   ]
  },
  {
   "cell_type": "code",
   "execution_count": null,
   "id": "799b7a85",
   "metadata": {},
   "outputs": [],
   "source": [
    "#define the random forest classifier\n",
    "clf=RandomForestClassifier(n_estimators=140,max_depth=13,min_samples_split=3)\n",
    "\n",
    "#Train the model using the training sets\n",
    "clf.fit(x_train,y_train)\n",
    "\n",
    "# Cross-validation\n",
    "'''\n",
    "for q in range(0,10,1):\n",
    "    test_size=[0.8,0.6,0.4,0.2,0.05]\n",
    "    size=test_size[q]\n",
    "    print(\"test_size = \",size)\n",
    "    for p in range(3):\n",
    "        x_train_split, x_val, y_train_split, y_val = train_test_split(x_train, y_train, test_size=size)\n",
    "        clf.fit(x_train_split,y_train_split)\n",
    "        y_pred = clf.predict(x_val)\n",
    "        y_pred_training = clf.predict(x_train_split)\n",
    "        print('Accuracy Score on train data: ', accuracy_score(y_true=y_train_split, y_pred=y_pred_training))\n",
    "        print('Accuracy Score on test data: ', accuracy_score(y_true=y_val, y_pred=y_pred))\n",
    "'''"
   ]
  },
  {
   "cell_type": "code",
   "execution_count": null,
   "id": "60cd93f8",
   "metadata": {},
   "outputs": [],
   "source": [
    "# prediction on test set\n",
    "y_pred=clf.predict(x_test)\n",
    "\n",
    "print(\"Random Forest test Accuracy:\", accuracy_score(y_test, y_pred))\n",
    "print(classification_report(y_test,y_pred))#text report showing the main classification metrics"
   ]
  },
  {
   "cell_type": "code",
   "execution_count": 5,
   "id": "5dd0bd5b",
   "metadata": {},
   "outputs": [
    {
     "data": {
      "image/png": "[encoded data removed]",
      "text/plain": [
       "<Figure size 600x400 with 2 Axes>"
      ]
     },
     "metadata": {},
     "output_type": "display_data"
    }
   ],
   "source": [
    "# Confusion Matrix\n",
    "cm = confusion_matrix(y_test,y_pred)\n",
    "df_cm = pd.DataFrame(cm)\n",
    "fig, ax = plt.subplots(figsize=(6,4)) \n",
    "ax = sns.heatmap(df_cm, \n",
    "                annot=True, \n",
    "                fmt=\".20g\", \n",
    "                linewidths=2, \n",
    "                square=True\n",
    "                )\n",
    "\n",
    "ax.set_xlabel('True', family='Arial')\n",
    "ax.set_ylabel('Predict', family='Arial')\n",
    "ax.set_title('Confusion Matrix', family='Arial')\n",
    "plt.tight_layout()\n",
    "plt.savefig('B1_RF.png', dpi=300)"
   ]
  }
 ],
 "metadata": {
  "kernelspec": {
   "display_name": "Python 3 (ipykernel)",
   "language": "python",
   "name": "python3"
  },
  "language_info": {
   "codemirror_mode": {
    "name": "ipython",
    "version": 3
   },
   "file_extension": ".py",
   "mimetype": "text/x-python",
   "name": "python",
   "nbconvert_exporter": "python",
   "pygments_lexer": "ipython3",
   "version": "3.9.13"
  }
 },
 "nbformat": 4,
 "nbformat_minor": 5
}
