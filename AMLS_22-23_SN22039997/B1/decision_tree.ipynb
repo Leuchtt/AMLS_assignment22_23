{
 "cells": [
  {
   "cell_type": "code",
   "execution_count": 1,
   "id": "11778528",
   "metadata": {},
   "outputs": [],
   "source": [
    "import pandas as pd\n",
    "import numpy as np\n",
    "import matplotlib.pyplot as plt\n",
    "from sklearn import tree\n",
    "from sklearn.model_selection import train_test_split\n",
    "from sklearn.metrics import accuracy_score,confusion_matrix,classification_report\n",
    "from sklearn.model_selection import GridSearchCV\n",
    "import numpy\n",
    "import cv2\n",
    "from PIL import Image\n",
    "import seaborn as sns"
   ]
  },
  {
   "cell_type": "code",
   "execution_count": 2,
   "id": "bbc52934",
   "metadata": {},
   "outputs": [
    {
     "name": "stdout",
     "output_type": "stream",
     "text": [
      "Dataset prepared\n"
     ]
    }
   ],
   "source": [
    "# Load training data\n",
    "#the running of this seperate file needs the revision of relative path\n",
    "\n",
    "train_label_path = './Datasets/cartoon_set/labels.csv'\n",
    "train_img_path = './Datasets/cartoon_set/img/'\n",
    "test_label_path = './Datasets/cartoon_set_test/labels.csv'\n",
    "test_img_path = './Datasets/cartoon_set_test/img/'\n",
    "\n",
    "dataset = pd.read_csv(train_label_path, sep = \"\\t\")  # read csv file\n",
    "y_train = dataset['face_shape']\n",
    "img_name1 = dataset['file_name']\n",
    "\n",
    "def loadImage(path):\n",
    "    img = Image.open(path)\n",
    "    img = cv2.cvtColor(np.asarray(img),cv2.COLOR_RGB2BGR)\n",
    "    median = cv2.resize(img, (64, 64))\n",
    "    img_resize = Image.fromarray(cv2.cvtColor(median,cv2.COLOR_BGR2RGB))\n",
    "    img = img_resize.convert(\"L\")\n",
    "    data = img.getdata()\n",
    "    return data\n",
    "\n",
    "x_train = []\n",
    "for name in img_name1:\n",
    "    img_path = train_img_path + name # get path\n",
    "    img = loadImage(img_path)\n",
    "    x_train.append(img) \n",
    "\n",
    "# Load test data\n",
    "data_test = pd.read_csv(test_label_path, sep = \"\\t\")  # read csv file\n",
    "y_test = data_test['face_shape']\n",
    "img_name2 = data_test['file_name']\n",
    "\n",
    "x_test = []\n",
    "for name in img_name2:\n",
    "    img_path = test_img_path + name  \n",
    "    img = loadImage(img_path)\n",
    "    x_test.append(img)    \n",
    "\n",
    "print(\"Dataset prepared\")"
   ]
  },
  {
   "cell_type": "code",
   "execution_count": null,
   "id": "f5de4d0d",
   "metadata": {},
   "outputs": [],
   "source": [
    "# GridSearchCV\n",
    "'''\n",
    "param_grid = {'criterion': ['entropy'],\n",
    "              'max_depth': [35,45,55],\n",
    "              'min_samples_split': [2, 3, 4, 5],\n",
    "              'min_samples_leaf': [1, 5, 10]}\n",
    "grid = GridSearchCV(tree.DecisionTreeClassifier(),param_grid=param_grid,cv=10)\n",
    "grid.fit(x_train,y_train)\n",
    "print('Best Parameter:',grid.best_params_,'Best Score:', grid.best_score_) \n",
    "'''"
   ]
  },
  {
   "cell_type": "code",
   "execution_count": 3,
   "id": "afc0953c",
   "metadata": {},
   "outputs": [
    {
     "name": "stdout",
     "output_type": "stream",
     "text": [
      "Accuracy Score on test data:  0.9992\n",
      "              precision    recall  f1-score   support\n",
      "\n",
      "           0       1.00      1.00      1.00       500\n",
      "           1       1.00      1.00      1.00       500\n",
      "           2       1.00      1.00      1.00       500\n",
      "           3       1.00      1.00      1.00       500\n",
      "           4       1.00      1.00      1.00       500\n",
      "\n",
      "    accuracy                           1.00      2500\n",
      "   macro avg       1.00      1.00      1.00      2500\n",
      "weighted avg       1.00      1.00      1.00      2500\n",
      "\n"
     ]
    }
   ],
   "source": [
    "#Importing the Decision tree classifier from the sklearn library.\n",
    "tree_params={\n",
    "    'criterion':'entropy',\n",
    "    'max_depth': 35, \n",
    "    'min_samples_leaf': 1,\n",
    "    'min_samples_split':2\n",
    "}\n",
    "clf = tree.DecisionTreeClassifier( **tree_params )\n",
    "\n",
    "# Cross-validation\n",
    "'''\n",
    "for q in range(0,10,1):\n",
    "    test_size=[0.8,0.6,0.4,0.2,0.05]\n",
    "    size=test_size[q]\n",
    "    print(\"test_size = \",size)\n",
    "    for p in range(3):\n",
    "        x_train_split, x_val, y_train_split, y_val = train_test_split(x_train, y_train, test_size=size)\n",
    "        clf.fit(x_train_split,y_train_split)\n",
    "        y_pred = clf.predict(x_val)\n",
    "        y_pred_training = clf.predict(x_train_split)\n",
    "        print('Accuracy Score on train data: ', accuracy_score(y_true=y_train_split, y_pred=y_pred_training))\n",
    "        print('Accuracy Score on test data: ', accuracy_score(y_true=y_val, y_pred=y_pred))\n",
    "'''"
   ]
  },
  {
   "cell_type": "code",
   "execution_count": null,
   "id": "f0b260d4",
   "metadata": {},
   "outputs": [],
   "source": [
    "#Training the decision tree classifier on training set.\n",
    "clf.fit(x_train,y_train)\n",
    "\n",
    "#Predicting labels on the test set..\n",
    "y_pred =  clf.predict(x_test)\n",
    "\n",
    "#Use accuracy metric from sklearn.metrics library\n",
    "#print('Accuracy Score on train data: ', accuracy_score(y_true=y_train, y_pred=clf.predict(x_train)))\n",
    "print('Accuracy Score on test data: ', accuracy_score(y_true=y_test, y_pred=y_pred))\n",
    "print(classification_report(y_test,y_pred))#text report showing the main classification metrics"
   ]
  },
  {
   "cell_type": "code",
   "execution_count": 4,
   "id": "f58da692",
   "metadata": {},
   "outputs": [
    {
     "data": {
      "image/png": "[encoded data removed]",
      "text/plain": [
       "<Figure size 600x400 with 2 Axes>"
      ]
     },
     "metadata": {},
     "output_type": "display_data"
    }
   ],
   "source": [
    "# Confusion Matrix\n",
    "cm = confusion_matrix(y_test,y_pred)\n",
    "df_cm = pd.DataFrame(cm)\n",
    "fig, ax = plt.subplots(figsize=(6,4)) \n",
    "ax = sns.heatmap(df_cm, \n",
    "                annot=True, \n",
    "                fmt=\".20g\", \n",
    "                linewidths=2, \n",
    "                square=True\n",
    "                )\n",
    "\n",
    "ax.set_xlabel('True', family='Arial')\n",
    "ax.set_ylabel('Predict', family='Arial')\n",
    "ax.set_title('Confusion Matrix', family='Arial')\n",
    "plt.tight_layout()\n",
    "plt.savefig('B1_DT.png', dpi=300)"
   ]
  }
 ],
 "metadata": {
  "kernelspec": {
   "display_name": "Python 3 (ipykernel)",
   "language": "python",
   "name": "python3"
  },
  "language_info": {
   "codemirror_mode": {
    "name": "ipython",
    "version": 3
   },
   "file_extension": ".py",
   "mimetype": "text/x-python",
   "name": "python",
   "nbconvert_exporter": "python",
   "pygments_lexer": "ipython3",
   "version": "3.9.13"
  }
 },
 "nbformat": 4,
 "nbformat_minor": 5
}
