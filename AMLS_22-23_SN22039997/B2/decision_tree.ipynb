{
 "cells": [
  {
   "cell_type": "code",
   "execution_count": 1,
   "id": "aa01c396",
   "metadata": {},
   "outputs": [],
   "source": [
    "import pandas as pd\n",
    "import numpy as np\n",
    "import matplotlib.pyplot as plt\n",
    "from sklearn import tree\n",
    "from sklearn.model_selection import train_test_split,cross_val_score,GridSearchCV\n",
    "import numpy\n",
    "from sklearn.metrics import confusion_matrix, classification_report,accuracy_score\n",
    "import cv2\n",
    "from PIL import Image\n",
    "import seaborn as sns"
   ]
  },
  {
   "cell_type": "code",
   "execution_count": 2,
   "id": "dd710630",
   "metadata": {},
   "outputs": [
    {
     "name": "stdout",
     "output_type": "stream",
     "text": [
      "8390 4096\n"
     ]
    }
   ],
   "source": [
    "#the running of this seperate file needs the revision of relative path\n",
    "train_label_path = './Datasets/cartoon_set/train_new.csv'\n",
    "train_img_path = './Datasets/cartoon_set/img/'\n",
    "test_label_path = './Datasets/cartoon_set_test/test_new.csv'\n",
    "test_img_path = './Datasets/cartoon_set_test/img/'\n",
    "\n",
    "#define the image data preprocessing including resize and conversion to L\n",
    "def loadImage(path):\n",
    "    img = Image.open(path)\n",
    "    img = cv2.cvtColor(np.asarray(img),cv2.COLOR_RGB2BGR)\n",
    "    median = cv2.resize(img, (64, 64))\n",
    "    img_resize = Image.fromarray(cv2.cvtColor(median,cv2.COLOR_BGR2RGB))\n",
    "    img = img_resize.convert(\"L\")\n",
    "    data = img.getdata()\n",
    "    return data\n",
    "\n",
    "#load training dataset\n",
    "dataset = pd.read_csv(train_label_path)  # read csv file\n",
    "y_train = dataset['eye_color']\n",
    "img_name1 = dataset['file_name']\n",
    "\n",
    "x_train = []\n",
    "for name in img_name1:\n",
    "    img_path = train_img_path + name\n",
    "    img = loadImage(img_path)\n",
    "    x_train.append(img) \n",
    "\n",
    "# Load test data\n",
    "data_test = pd.read_csv(test_label_path)  # read csv file\n",
    "y_test = data_test['eye_color']\n",
    "img_name2 = data_test['file_name']\n",
    "\n",
    "x_test = []\n",
    "for name in img_name2:\n",
    "    img_path = test_img_path + name  # get path\n",
    "    img = loadImage(img_path)\n",
    "    x_test.append(img)  # add pic\n",
    "\n",
    "#data standardization\n",
    "from sklearn.preprocessing import StandardScaler\n",
    "sc = StandardScaler()\n",
    "x_train = sc.fit_transform(x_train)\n",
    "x_test = sc.transform(x_test)\n",
    "print(\"Dataset prepared\")"
   ]
  },
  {
   "cell_type": "code",
   "execution_count": 3,
   "id": "a31b095f",
   "metadata": {},
   "outputs": [
    {
     "data": {
      "text/plain": [
       "\"\\nparam_grid = {'criterion': ['entropy'],\\n              'max_depth': [5, 10, 15, 35],\\n              'min_samples_split': [2, 3, 4, 5],\\n              'min_samples_leaf': [1, 5, 10]}\\ngrid = GridSearchCV(tree.DecisionTreeClassifier(),param_grid=param_grid,cv=10)\\ngrid.fit(x_train,y_train)\\nprint('Best Parameter:',grid.best_params_,'Best Score:', grid.best_score_) \\n\""
      ]
     },
     "execution_count": 3,
     "metadata": {},
     "output_type": "execute_result"
    }
   ],
   "source": [
    "# GridSearchCV\n",
    "'''\n",
    "param_grid = {'criterion': ['entropy'],\n",
    "              'max_depth': [5, 10, 15, 35],\n",
    "              'min_samples_split': [2, 3, 4, 5],\n",
    "              'min_samples_leaf': [1, 5, 10]}\n",
    "grid = GridSearchCV(tree.DecisionTreeClassifier(),param_grid=param_grid,cv=10)\n",
    "grid.fit(x_train,y_train)\n",
    "print('Best Parameter:',grid.best_params_,'Best Score:', grid.best_score_) \n",
    "'''"
   ]
  },
  {
   "cell_type": "code",
   "execution_count": 4,
   "id": "4fb725e1",
   "metadata": {},
   "outputs": [
    {
     "data": {
      "text/plain": [
       "'\\nfor q in range(0,10,1):\\n    test_size=[0.8,0.6,0.4,0.2,0.05]\\n    size=test_size[q]\\n    print(\"test_size = \",size)\\n    for p in range(3):\\n        x_train_split, x_val, y_train_split, y_val = train_test_split(x_train, y_train, test_size=size)\\n        clf.fit(x_train_split,y_train_split)\\n        y_pred = clf.predict(x_val)\\n        y_pred_training = clf.predict(x_train_split)\\n        print(\\'Accuracy Score on train data: \\', accuracy_score(y_true=y_train_split, y_pred=y_pred_training))\\n        print(\\'Accuracy Score on test data: \\', accuracy_score(y_true=y_val, y_pred=y_pred))\\n'"
      ]
     },
     "execution_count": 4,
     "metadata": {},
     "output_type": "execute_result"
    }
   ],
   "source": [
    "#Importing the Decision tree classifier from the sklearn library.\n",
    "#define parameters of decision tree classifier\n",
    "tree_params={\n",
    "    'criterion':'entropy',\n",
    "    'max_depth': 15, \n",
    "    'min_samples_leaf': 1,\n",
    "    'min_samples_split':4\n",
    "}\n",
    "clf = tree.DecisionTreeClassifier( **tree_params )\n",
    "\n",
    "# Cross-validation\n",
    "'''\n",
    "for q in range(0,10,1):\n",
    "    test_size=[0.8,0.6,0.4,0.2,0.05]\n",
    "    size=test_size[q]\n",
    "    print(\"test_size = \",size)\n",
    "    for p in range(3):\n",
    "        x_train_split, x_val, y_train_split, y_val = train_test_split(x_train, y_train, test_size=size)\n",
    "        clf.fit(x_train_split,y_train_split)\n",
    "        y_pred = clf.predict(x_val)\n",
    "        y_pred_training = clf.predict(x_train_split)\n",
    "        print('Accuracy Score on train data: ', accuracy_score(y_true=y_train_split, y_pred=y_pred_training))\n",
    "        print('Accuracy Score on test data: ', accuracy_score(y_true=y_val, y_pred=y_pred))\n",
    "'''"
   ]
  },
  {
   "cell_type": "code",
   "execution_count": 5,
   "id": "f159ae97",
   "metadata": {},
   "outputs": [
    {
     "name": "stdout",
     "output_type": "stream",
     "text": [
      "Accuracy Score on test data:  0.9685863874345549\n",
      "              precision    recall  f1-score   support\n",
      "\n",
      "           0       0.98      0.96      0.97       419\n",
      "           1       0.98      0.97      0.97       406\n",
      "           2       0.96      0.97      0.97       448\n",
      "           3       0.96      0.97      0.97       426\n",
      "           4       0.97      0.97      0.97       402\n",
      "\n",
      "    accuracy                           0.97      2101\n",
      "   macro avg       0.97      0.97      0.97      2101\n",
      "weighted avg       0.97      0.97      0.97      2101\n",
      "\n"
     ]
    }
   ],
   "source": [
    "#Training the decision tree classifier on training set.\n",
    "clf.fit(x_train,y_train)\n",
    "\n",
    "#Predicting labels on the test set.\n",
    "y_pred =  clf.predict(x_test)\n",
    "\n",
    "#Use accuracy metric from sklearn.metrics library\n",
    "#print('Accuracy Score on train data: ', accuracy_score(y_true=y_train, y_pred=clf.predict(x_train)))\n",
    "print('Accuracy Score on test data: ', accuracy_score(y_true=y_test, y_pred=y_pred))\n",
    "print(classification_report(y_test,y_pred))#text report showing the main classification metrics"
   ]
  },
  {
   "cell_type": "code",
   "execution_count": 6,
   "id": "5119c832",
   "metadata": {},
   "outputs": [
    {
     "data": {
      "image/png": "[encoded data removed]",
      "text/plain": [
       "<Figure size 600x400 with 2 Axes>"
      ]
     },
     "metadata": {},
     "output_type": "display_data"
    }
   ],
   "source": [
    "cm = confusion_matrix(y_test,y_pred)\n",
    "df_cm = pd.DataFrame(cm)\n",
    "fig, ax = plt.subplots(figsize=(6,4)) \n",
    "ax = sns.heatmap(df_cm, \n",
    "                annot=True, \n",
    "                fmt=\".20g\", \n",
    "                linewidths=2, \n",
    "                square=True\n",
    "                )\n",
    "\n",
    "ax.set_xlabel('True', family='Arial')\n",
    "ax.set_ylabel('Predict', family='Arial')\n",
    "ax.set_title('Confusion Matrix', family='Arial')\n",
    "plt.tight_layout()\n",
    "plt.savefig('B2_DT.png', dpi=300)"
   ]
  }
 ],
 "metadata": {
  "kernelspec": {
   "display_name": "Python 3 (ipykernel)",
   "language": "python",
   "name": "python3"
  },
  "language_info": {
   "codemirror_mode": {
    "name": "ipython",
    "version": 3
   },
   "file_extension": ".py",
   "mimetype": "text/x-python",
   "name": "python",
   "nbconvert_exporter": "python",
   "pygments_lexer": "ipython3",
   "version": "3.9.13"
  }
 },
 "nbformat": 4,
 "nbformat_minor": 5
}
