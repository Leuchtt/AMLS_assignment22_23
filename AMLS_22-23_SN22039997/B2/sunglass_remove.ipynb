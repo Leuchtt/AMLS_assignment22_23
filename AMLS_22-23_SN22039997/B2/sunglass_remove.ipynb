{
 "cells": [
  {
   "cell_type": "code",
   "execution_count": 1,
   "id": "6da57170",
   "metadata": {},
   "outputs": [],
   "source": [
    "import numpy as np\n",
    "import matplotlib.pyplot as plt\n",
    "from PIL import Image\n",
    "import cv2\n",
    "from sklearn import datasets\n",
    "from sklearn.svm import SVC\n",
    "import pandas as pd\n"
   ]
  },
  {
   "cell_type": "code",
   "execution_count": 2,
   "id": "1d6bbe60",
   "metadata": {},
   "outputs": [],
   "source": [
    "#the running of this seperate file needs the revision of relative path\n",
    "train_label_path = './Datasets/cartoon_set/labels.csv'\n",
    "train_img_path = './Datasets/cartoon_set/img/'\n",
    "test_label_path = './Datasets/cartoon_set_test/labels.csv'\n",
    "test_img_path = './Datasets/cartoon_set_test/img/'\n",
    "\n",
    "dataset = pd.read_csv(train_label_path, sep = \"\\t\")  # read csv file\n",
    "# Label 600 image in terms of sunglasses\n",
    "y_label = list([1, 1, 0, 0, 0, 0, 0, 0, 0, 0, 0, 1, 0, 0, 0, 0, 0, 0, 1, 0, \n",
    "                0, 1, 0, 0, 0, 0, 1, 1, 1, 1, 1, 0, 1, 0, 0, 1, 0, 1, 1, 0,\n",
    "                0, 0, 0, 0, 0, 0, 1, 1, 0, 1, 0, 0, 0, 0, 0, 1, 0, 0, 0, 1,\n",
    "                0, 0, 1, 0, 0, 0, 0, 0, 0, 0, 0, 0, 0, 0, 0, 0, 1, 0, 0, 0,\n",
    "                0, 0, 1, 1, 0, 0, 0, 1, 0, 0, 1, 0, 0, 0, 0, 0, 1, 0, 0, 0,\n",
    "                1, 0, 1, 0, 1, 0, 0, 0, 0, 0, 0, 0, 0, 0, 0, 0, 0, 0, 0, 0,\n",
    "                0, 0, 0, 1, 0, 0, 0, 0, 0, 1, 0, 0, 0, 0, 0, 1, 0, 0, 0, 0,\n",
    "                0, 0, 0, 1, 0, 0, 0, 0, 0, 0, 0, 1, 0, 0, 0, 0, 0, 0, 0, 0,\n",
    "                0, 0, 0, 0, 0, 0, 1, 0, 0, 1, 0, 0, 0, 1, 0, 0, 0, 1, 0, 0,\n",
    "                0, 1, 0, 0, 0, 0, 0, 0, 1, 0, 1, 1, 0, 0, 0, 0, 0, 1, 1, 0,\n",
    "                \n",
    "                0, 0, 0, 0, 0, 0, 0, 0, 0, 0, 0, 0, 0, 0, 1, 0, 1, 1, 0, 0,\n",
    "                0, 0, 0, 0, 0, 0, 0, 1, 0, 1, 1, 1, 0, 0, 0, 0, 1, 0, 0, 0,\n",
    "                0, 0, 1, 0, 0, 0, 0, 1, 1, 0, 0, 0, 0, 1, 0, 0, 0, 0, 0, 0,\n",
    "                1, 0, 0, 0, 0, 1, 1, 1, 0, 0, 0, 0, 1, 0, 0, 0, 0, 0, 0, 0,\n",
    "                0, 0, 0, 0, 0, 1, 0, 0, 1, 0, 0, 0, 0, 1, 0, 1, 1, 0, 0, 0,\n",
    "                0, 0, 0, 0, 0, 0, 0, 0, 0, 0, 0, 0, 1, 0, 0, 0, 0, 0, 0, 0,\n",
    "                0, 0, 0, 0, 0, 0, 0, 0, 0, 0, 1, 1, 0, 0, 0, 0, 0, 0, 1, 0,\n",
    "                0, 0, 0, 0, 1, 1, 0, 1, 0, 0, 0, 0, 0, 0, 1, 0, 0, 0, 0, 0,\n",
    "                0, 0, 0, 0, 1, 0, 0, 0, 0, 0, 0, 0, 0, 0, 0, 0, 0, 0, 0, 0,\n",
    "                0, 0, 0, 0, 0, 0, 0, 0, 0, 0, 0, 0, 0, 0, 0, 0, 0, 0, 0, 0,\n",
    "                \n",
    "                1, 0, 0, 0, 1, 0, 0, 1, 0, 0, 0, 0, 0, 0, 0, 0, 0, 0, 1, 1,\n",
    "                0, 0, 0, 0, 0, 1, 1, 0, 0, 0, 0, 0, 0, 0, 0, 0, 1, 0, 1, 0,\n",
    "                0, 0, 0, 1, 0, 0, 0, 1, 0, 0, 0, 1, 0, 0, 0, 1, 1, 0, 0, 0,\n",
    "                0, 0, 0, 0, 0, 0, 0, 0, 0, 0, 0, 1, 1, 1, 0, 0, 0, 0, 0, 0,\n",
    "                0, 0, 0, 0, 0, 0, 0, 0, 0, 0, 0, 0, 0, 0, 0, 1, 0, 0, 0, 0,\n",
    "                1, 1, 0, 0, 0, 0, 1, 0, 0, 0, 0, 0, 0, 0, 0, 0, 0, 1, 0, 0,\n",
    "                1, 0, 0, 0, 0, 0, 0, 0, 1, 0, 0, 0, 0, 0, 0, 0, 0, 0, 0, 1,\n",
    "                0, 0, 0, 0, 0, 0, 1, 0, 0, 1, 0, 0, 0, 0, 1, 0, 0, 0, 0, 0,\n",
    "                0, 0, 0, 0, 0, 0, 1, 0, 0, 0, 0, 0, 1, 1, 0, 0, 0, 0, 0, 0,\n",
    "                0, 0, 0, 0, 0, 1, 1, 0, 1, 0, 1, 1, 0, 0, 0, 0, 0, 0, 0, 0])\n",
    "\n",
    "img_name1 = dataset['file_name']\n",
    "\n",
    "#define the image data preprocessing including resize and conversion to L\n",
    "def loadImage(path):\n",
    "    img = Image.open(path)\n",
    "    img = cv2.cvtColor(np.asarray(img),cv2.COLOR_RGB2BGR)\n",
    "    median = cv2.resize(img, (64, 64))\n",
    "    img_resize = Image.fromarray(cv2.cvtColor(median,cv2.COLOR_BGR2RGB))\n",
    "    img = img_resize.convert(\"L\")\n",
    "    data = img.getdata()\n",
    "    return data\n",
    "\n",
    "#load train img\n",
    "x_train = []\n",
    "for name in img_name1:\n",
    "    img_path = train_img_path + name # get path based on image name\n",
    "    img = loadImage(img_path)\n",
    "    x_train.append(img)  # add pic to x_train\n",
    "\n",
    "#data standardization\n",
    "from sklearn.preprocessing import StandardScaler\n",
    "sc = StandardScaler()\n",
    "x_train= sc.fit_transform(x_train)\n",
    "\n",
    "#split the training dataset into label and unlabel\n",
    "x_label = x_train[:600]\n",
    "x_unlabel = x_train[600:]\n"
   ]
  },
  {
   "cell_type": "code",
   "execution_count": 3,
   "id": "eb2d7433",
   "metadata": {},
   "outputs": [],
   "source": [
    "# define the SVM model\n",
    "model = SVC(kernel='rbf', C=1, gamma='scale', decision_function_shape='ovo')\n",
    "\n",
    "#train the model using labelled train set\n",
    "model.fit(x_label,y_label)\n",
    "#predict the unlabel train set\n",
    "y_pred = model.predict(x_unlabel)\n",
    "\n",
    "#build the new train set with labelled and predicted sunglasses labels\n",
    "x_train_new = np.concatenate((x_label, x_unlabel))\n",
    "y_train_new = np.concatenate((y_label, y_pred))"
   ]
  },
  {
   "cell_type": "code",
   "execution_count": 4,
   "id": "b7edb8ff",
   "metadata": {},
   "outputs": [
    {
     "name": "stdout",
     "output_type": "stream",
     "text": [
      "Sunglasses classification completed\n"
     ]
    }
   ],
   "source": [
    "# Load unlabeled test data\n",
    "data_test = pd.read_csv(test_label_path, sep = \"\\t\")  # read csv file\n",
    "img_name2 = data_test['file_name']\n",
    "x_test = []\n",
    "for name in img_name2:\n",
    "    img_path = test_img_path + name  # get path based on image name\n",
    "    img = loadImage(img_path)\n",
    "    x_test.append(img)  # add pic to x_test\n",
    "x_test = sc.transform(x_test)\n",
    "\n",
    "#train the model using new train set\n",
    "model.fit(x_train_new,y_train_new)\n",
    "#predict the label of the test dataset\n",
    "y_pred_test = model.predict(x_test)\n",
    "\n",
    "#print(y_pred_test[:100])\n",
    "print(\"Sunglasses classification completed\")"
   ]
  },
  {
   "cell_type": "code",
   "execution_count": 5,
   "id": "c11fec62",
   "metadata": {},
   "outputs": [
    {
     "name": "stdout",
     "output_type": "stream",
     "text": [
      "train_new.csv saved\n"
     ]
    }
   ],
   "source": [
    "#if sunglasses wearing is false, save it into the new \"cartoon_set\"\n",
    "j=0\n",
    "for i in range(0,len(y_train_new)):\n",
    "    if y_train_new[i] == 0:\n",
    "        j=j+1\n",
    "    else:\n",
    "        j=j\n",
    "#print(j)\n",
    "p=0\n",
    "train_new_label = dataset.loc[0:j-1, :]\n",
    "\n",
    "for i in range(0,len(y_train_new)):\n",
    "    if y_train_new[i] == 0:\n",
    "        train_new_label.loc[p,:]=dataset.loc[i,:]\n",
    "        p=p+1\n",
    "    else:\n",
    "        train_new_label=train_new_label\n",
    "\n",
    "train_new_label.to_csv(\"./Datasets/cartoon_set/train_new.csv\",index=0)\n",
    "print(\"train_new.csv saved\")"
   ]
  },
  {
   "cell_type": "code",
   "execution_count": 6,
   "id": "57dd71d4",
   "metadata": {},
   "outputs": [
    {
     "name": "stdout",
     "output_type": "stream",
     "text": [
      "test_new.csv saved\n",
      "Dataset prepared\n"
     ]
    }
   ],
   "source": [
    "#if sunglasses wearing is false, save it into the new \"cartoon__test_set\"\n",
    "j=0\n",
    "for i in range(0,len(y_pred_test)):\n",
    "    if y_pred_test[i] == 0:\n",
    "        j=j+1\n",
    "    else:\n",
    "        j=j\n",
    "#print(j)\n",
    "\n",
    "p=0\n",
    "test_new_label = data_test.loc[0:j-1, :]\n",
    "for i in range(0,len(y_pred_test)):\n",
    "    if y_pred_test[i] == 0:\n",
    "        test_new_label.loc[p,:]=data_test.loc[i,:]\n",
    "        p=p+1\n",
    "    else:\n",
    "        test_new_label=test_new_label\n",
    "#print(test_new_label)\n",
    "\n",
    "test_new_label.to_csv(\"./Datasets/cartoon_set_test/test_new.csv\",index=0)\n",
    "print(\"test_new.csv saved\")"
   ]
  }
 ],
 "metadata": {
  "kernelspec": {
   "display_name": "Python 3 (ipykernel)",
   "language": "python",
   "name": "python3"
  },
  "language_info": {
   "codemirror_mode": {
    "name": "ipython",
    "version": 3
   },
   "file_extension": ".py",
   "mimetype": "text/x-python",
   "name": "python",
   "nbconvert_exporter": "python",
   "pygments_lexer": "ipython3",
   "version": "3.9.13"
  }
 },
 "nbformat": 4,
 "nbformat_minor": 5
}
